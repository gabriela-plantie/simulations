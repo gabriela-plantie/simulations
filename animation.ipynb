{
 "cells": [
  {
   "cell_type": "code",
   "execution_count": 1,
   "id": "d84e73f9",
   "metadata": {},
   "outputs": [
    {
     "data": {
      "application/javascript": "\n                    window.jupyter_python_executable = '/opt/homebrew/Cellar/python@3.12/3.12.4/Frameworks/Python.framework/Versions/3.12/Resources/Python.app/Contents/MacOS/Python';\n                    window.jupyter_widget_checks_silent = true;\n                    window.jupyter_widget_checks_libraries = [{\"python\": \"ipyvuetify\", \"classic\": \"jupyter-vuetify/extension\", \"lab\": \"jupyter-vuetify\"}, {\"python\": \"ipyvue\", \"classic\": \"jupyter-vue/extension\", \"lab\": \"jupyter-vue\"}];\n                    ",
      "text/plain": [
       "<IPython.core.display.Javascript object>"
      ]
     },
     "metadata": {},
     "output_type": "display_data"
    },
    {
     "data": {
      "text/html": [
       "<div class=\"jupyter-widget-checks-container\">\n",
       "    <script>\n",
       "        (function () {\n",
       "            console.log(\"Checking for jupyter-widgets extensions\")\n",
       "            const inLab = window._JUPYTERLAB !== undefined;\n",
       "            const silent = jupyter_widget_checks_silent;\n",
       "            const containers = document.getElementsByClassName('jupyter-widget-checks-container');\n",
       "            const rootEl = containers[containers.length - 1];\n",
       "            const libraries = window.jupyter_widget_checks_libraries;\n",
       "\n",
       "            function getBaseUrl() {\n",
       "                const labConfigData = document.getElementById(\"jupyter-config-data\");\n",
       "                if (labConfigData) {\n",
       "                    /* lab and Voila */\n",
       "                    return JSON.parse(labConfigData.textContent).baseUrl;\n",
       "                }\n",
       "                let base = document.body.dataset.baseUrl || document.baseURI;\n",
       "                return base;\n",
       "            }\n",
       "\n",
       "            function checkLibrary(extensions, library) {\n",
       "                let installed = false;\n",
       "                let ok = true;\n",
       "                if (inLab) {\n",
       "                    installed = _JUPYTERLAB[library.lab] !== undefined\n",
       "                } else {\n",
       "                    installed = extensions[library.classic] !== undefined;\n",
       "                    let enabled = extensions[library.classic] === true;\n",
       "                }\n",
       "                const div = document.createElement(\"div\")\n",
       "                if (installed) {\n",
       "                    if (!silent) {\n",
       "                        div.innerHTML = `Extension ${library.python} is installed at the server ✅`\n",
       "                        rootEl.appendChild(div)\n",
       "                    }\n",
       "                } else {\n",
       "                    div.innerHTML = `Extension ${library.python} is <b>NOT</b> installed at the server ❌.`\n",
       "                    rootEl.appendChild(div)\n",
       "                    ok = false;\n",
       "                }\n",
       "                return ok;\n",
       "            }\n",
       "\n",
       "            async function check() {\n",
       "                const url = `${getBaseUrl()}api/config/notebook`\n",
       "                const response = (await fetch(url));\n",
       "                const data = await response.json()\n",
       "                const extensions = data[\"load_extensions\"];\n",
       "                var ok = true;\n",
       "                let needsInstall = [];\n",
       "                libraries.forEach((library) => {\n",
       "                    if (!checkLibrary(extensions, library)) {\n",
       "                        ok = false;\n",
       "                        needsInstall.push(library.python)\n",
       "                        console.log(\"Needs install\", library.python)\n",
       "                    }\n",
       "                })\n",
       "                console.log(ok, needsInstall)\n",
       "                if (!ok) {\n",
       "                    const div = document.createElement(\"div\")\n",
       "                    const div2 = document.createElement(\"div\")\n",
       "                    div.innerHTML = `Run <code>${jupyter_python_executable} -m pip install ${needsInstall.join(\" \")}</code>. Refresh the page after installation.`\n",
       "                    div2.innerHTML = `Visit <a href=\"https://solara.dev/documentation/getting_started/troubleshoot\" target=\"_blank\">https://solara/dev/documentation/getting_started/troubleshoot</a> for more information.`\n",
       "                    rootEl.appendChild(div)\n",
       "                    rootEl.appendChild(div2)\n",
       "                }\n",
       "            }\n",
       "            check()\n",
       "        })();\n",
       "    </script>\n",
       "</div>\n"
      ],
      "text/plain": [
       "<IPython.core.display.HTML object>"
      ]
     },
     "metadata": {},
     "output_type": "display_data"
    }
   ],
   "source": [
    "from mesa.visualization import (\n",
    "    Slider,\n",
    "    SolaraViz,\n",
    "    make_plot_component,\n",
    "    make_space_component,\n",
    ")\n",
    "\n",
    "import numpy as np\n",
    "from mesa.experimental import SolaraViz\n",
    "from mesa.space import NetworkGrid\n",
    "\n",
    "from agents.orders import Order\n",
    "from delivering import Dispatcher\n",
    "from animation.utils import agent_portrayal"
   ]
  },
  {
   "cell_type": "code",
   "execution_count": null,
   "id": "ddd507fa",
   "metadata": {},
   "outputs": [],
   "source": [
    "np.random.seed(19)\n",
    "num_riders = 2\n",
    "max_t = 12\n",
    "num_orders = 2\n",
    "\n",
    "orders = [\n",
    "    Order(\n",
    "        id=i,\n",
    "        creation_at=0,#(i+1)*1,\n",
    "        restaurant_address=(3, 3),\n",
    "        customer_address=(0, 0),\n",
    "    )\n",
    "    for i in range(num_orders)\n",
    "]\n",
    "\n",
    "model_params={\n",
    "        \"bag_limit\": 2,\n",
    "        \"max_t\": max_t,\n",
    "        \"dim\": 10,\n",
    "        \"orders\": orders,\n",
    "        \"num_riders\":num_riders,\n",
    "        \"starting_point\":(0,0),\n",
    "        \"slowness\": 1 # Slider(\n",
    "    #     \"Slowness\", value=10, min=1, max=20, step=1\n",
    "    # ),\n",
    "    }\n"
   ]
  },
  {
   "cell_type": "code",
   "execution_count": 5,
   "id": "5d001b2a",
   "metadata": {},
   "outputs": [
    {
     "data": {
      "application/vnd.jupyter.widget-view+json": {
       "model_id": "86ebd49d6c044cbc971caeb9c190c5ec",
       "version_major": 2,
       "version_minor": 0
      },
      "text/html": [
       "Cannot show widget. You probably want to rerun the code cell above (<i>Click in the code cell, and press Shift+Enter <kbd>⇧</kbd>+<kbd>↩</kbd></i>)."
      ],
      "text/plain": [
       "Cannot show ipywidgets in text"
      ]
     },
     "metadata": {},
     "output_type": "display_data"
    },
    {
     "name": "stdout",
     "output_type": "stream",
     "text": [
      "Max simulation steps reached!\n",
      "Max simulation steps reached!\n",
      "Max simulation steps reached!\n",
      "Max simulation steps reached!\n",
      "Max simulation steps reached!\n",
      "Max simulation steps reached!\n",
      "Max simulation steps reached!\n",
      "Max simulation steps reached!\n",
      "Max simulation steps reached!\n",
      "Max simulation steps reached!\n",
      "Max simulation steps reached!\n",
      "Max simulation steps reached!\n",
      "Max simulation steps reached!\n",
      "Max simulation steps reached!\n",
      "Max simulation steps reached!\n",
      "Max simulation steps reached!\n",
      "Max simulation steps reached!\n",
      "Max simulation steps reached!\n",
      "Max simulation steps reached!\n",
      "Max simulation steps reached!\n",
      "Max simulation steps reached!\n",
      "Max simulation steps reached!\n",
      "Max simulation steps reached!\n",
      "Max simulation steps reached!\n",
      "Max simulation steps reached!\n",
      "Max simulation steps reached!\n",
      "Max simulation steps reached!\n",
      "Max simulation steps reached!\n",
      "Max simulation steps reached!\n",
      "Max simulation steps reached!\n",
      "Max simulation steps reached!\n",
      "Max simulation steps reached!\n",
      "Max simulation steps reached!\n",
      "Max simulation steps reached!\n",
      "Max simulation steps reached!\n",
      "Max simulation steps reached!\n",
      "Max simulation steps reached!\n",
      "Max simulation steps reached!\n",
      "Max simulation steps reached!\n",
      "Max simulation steps reached!\n",
      "Max simulation steps reached!\n",
      "Max simulation steps reached!\n",
      "Max simulation steps reached!\n",
      "Max simulation steps reached!\n",
      "Max simulation steps reached!\n",
      "Max simulation steps reached!\n",
      "Max simulation steps reached!\n",
      "Max simulation steps reached!\n",
      "Max simulation steps reached!\n"
     ]
    }
   ],
   "source": [
    "viz = SolaraViz(\n",
    "    model_class=Dispatcher,\n",
    "    model_params=model_params,\n",
    "    name=\"Dispatcher\",\n",
    "    play_interval=10,\n",
    "    agent_portrayal=agent_portrayal,\n",
    "    measures=[\"delivery_time\", \"orders_assigned\", \"bag_size\", \"riders_free\", \"riders_going_to_vendor\", \"orders_picked_up\", \"orders_delivered\"],\n",
    ")\n",
    "\n",
    "viz"
   ]
  }
 ],
 "metadata": {
  "kernelspec": {
   "display_name": ".venv",
   "language": "python",
   "name": "python3"
  },
  "language_info": {
   "codemirror_mode": {
    "name": "ipython",
    "version": 3
   },
   "file_extension": ".py",
   "mimetype": "text/x-python",
   "name": "python",
   "nbconvert_exporter": "python",
   "pygments_lexer": "ipython3",
   "version": "3.12.4"
  }
 },
 "nbformat": 4,
 "nbformat_minor": 5
}
